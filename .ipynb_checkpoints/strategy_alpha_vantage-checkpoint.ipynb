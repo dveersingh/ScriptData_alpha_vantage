{
 "cells": [
  {
   "cell_type": "code",
   "execution_count": 2,
   "id": "00a853a8",
   "metadata": {},
   "outputs": [],
   "source": [
    "import pandas as pd \n",
    "import numpy as np\n",
    "\n",
    "from alpha_vantage.timeseries import TimeSeries\n",
    "\n",
    "from pyalgotrading.utils import func \n",
    "from pyalgotrading.constants import PlotType\n",
    "\n",
    "\n",
    "class ScriptData:\n",
    "    \n",
    "    \n",
    "    def __init__(self):\n",
    "        self._dict = {}\n",
    "        self.api_key = 'H3UKOVC7728S4FJF'       # key of alpha vantage api\n",
    "        self.output_format ='pandas'            #output format\n",
    "        self.interval = '5min'                  # interval for market data\n",
    "        \n",
    "    def __getitem__(self, script):\n",
    "        if self.__contains__(script):\n",
    "            return self._dict[script]\n",
    "        return \"NO Key Found\"\n",
    "        \n",
    "           \n",
    "    def __setitem__(self, script, val):\n",
    "            self._dict[script] = val\n",
    "\n",
    "    def __contains__(self, script):\n",
    "            \n",
    "        if script in self._dict :\n",
    "            return True \n",
    "        else:\n",
    "            return False\n",
    "        \n",
    "        \n",
    "    def fetch_intraday_data(self, script): \n",
    "        ts = TimeSeries(key= self.api_key, output_format=self.output_format)\n",
    "        #calling alpha vantage api\n",
    "        \n",
    "        data, meta_data = ts.get_intraday(symbol=script,interval=self.interval, outputsize='full')\n",
    "        self.__setitem__(script, data)\n",
    "        \n",
    "        ## set the data in _dict (key = script)\n",
    "    \n",
    "    \n",
    "    def convert_intraday_data(self, script):\n",
    "        data = self.__getitem__(script)\n",
    "        #getting data from _dict\n",
    "        \n",
    "        df = pd.DataFrame(data).reset_index(level=0)\n",
    "        # creating panda dataframe and reset the index\n",
    "        \n",
    "        df.rename(columns = {'date':'timestamp', \n",
    "                             '1. open':'open',\n",
    "                             '2. high':'high',\n",
    "                             '3. low':'low',\n",
    "                             '4. close':'close',\n",
    "                             '5. volume':'volume'}, \n",
    "                              inplace = True )\n",
    "        \n",
    "        #renamed the column names\n",
    "        \n",
    "        self.__setitem__(script, df)\n",
    "        # update the df in _dict \n",
    "        \n",
    "   "
   ]
  },
  {
   "cell_type": "code",
   "execution_count": null,
   "id": "7758c83e",
   "metadata": {},
   "outputs": [],
   "source": [
    "script_data = ScriptData()"
   ]
  },
  {
   "cell_type": "code",
   "execution_count": null,
   "id": "cbeafca7",
   "metadata": {},
   "outputs": [],
   "source": [
    "script_data.fetch_intraday_data(\"GOOGL\")\n",
    "script_data.convert_intraday_data(\"GOOGL\")\n",
    "script_data['GOOGL']\n"
   ]
  },
  {
   "cell_type": "code",
   "execution_count": null,
   "id": "dfe12889",
   "metadata": {},
   "outputs": [],
   "source": []
  },
  {
   "cell_type": "code",
   "execution_count": null,
   "id": "f861bea5",
   "metadata": {},
   "outputs": [],
   "source": [
    "script_data.fetch_intraday_data(\"AAPL\")\n",
    "script_data.convert_intraday_data(\"AAPL\")\n",
    "script_data['AAPL']\n"
   ]
  },
  {
   "cell_type": "code",
   "execution_count": null,
   "id": "d4306c78",
   "metadata": {},
   "outputs": [],
   "source": [
    "'GOOGL' in script_data"
   ]
  },
  {
   "cell_type": "code",
   "execution_count": null,
   "id": "261b76b7",
   "metadata": {},
   "outputs": [],
   "source": [
    "'AAPL' in script_data"
   ]
  },
  {
   "cell_type": "code",
   "execution_count": null,
   "id": "6ced7cd0",
   "metadata": {},
   "outputs": [],
   "source": [
    "'NVDA' in script_data"
   ]
  },
  {
   "cell_type": "code",
   "execution_count": 8,
   "id": "5bac11cf",
   "metadata": {},
   "outputs": [],
   "source": [
    "def indicator1(df, timeperiod):\n",
    "    \n",
    "    indicator_df = pd.DataFrame({ \n",
    "                         \"timestamp\":df[\"timestamp\"],\n",
    "                         \"indicator\":df['close'].rolling(window=timeperiod).mean()\n",
    "                          })\n",
    "    \n",
    "    \"\"\" creating new dataframe with 2 colums and calculating \n",
    "        moving average of close column\n",
    "    \"\"\"\n",
    "    return indicator_df"
   ]
  },
  {
   "cell_type": "code",
   "execution_count": null,
   "id": "93ea3448",
   "metadata": {},
   "outputs": [],
   "source": [
    "indicator1(script_data['GOOGL'], timeperiod = 5)"
   ]
  },
  {
   "cell_type": "code",
   "execution_count": null,
   "id": "e07bb458",
   "metadata": {},
   "outputs": [],
   "source": [
    "indicator1(script_data['AAPL'], timeperiod = 5)"
   ]
  },
  {
   "cell_type": "code",
   "execution_count": 9,
   "id": "1119d8ce",
   "metadata": {},
   "outputs": [],
   "source": [
    "class Strategy:\n",
    "    def __init__(self, script):\n",
    "        self.script = script\n",
    "        self.timeperiod = 5\n",
    "       \n",
    "        \n",
    "    def get_script_data(self):\n",
    "        self.script_data = ScriptData()\n",
    "        self.script_data.fetch_intraday_data(self.script)\n",
    "        self.script_data.convert_intraday_data(self.script)\n",
    "        #script_data[self.script]\n",
    "    \n",
    "    def get_signals(self):\n",
    "        indicator_data = indicator1(\n",
    "                             self.script_data[self.script],  \n",
    "                             self.timeperiod )\n",
    "        \n",
    "        self.temp_df = pd.merge(self.script_data[self.script], \n",
    "                           indicator_data, on='timestamp')\n",
    "        #merging df and indicator_df o timestamp and creating temp_df\n",
    "        \n",
    "        del indicator_data\n",
    "        \n",
    "        self.temp_df['Diff'] = self.temp_df.close - self.temp_df.indicator\n",
    "        \"\"\" Difference of close_data and indicator data \"\"\"\n",
    "        \n",
    "        self.temp_df['signal'] = np.select([((self.temp_df.Diff < 0) & (self.temp_df.Diff.shift() > 0)),\n",
    "                                     ((self.temp_df.Diff > 0) & (self.temp_df.Diff.shift() < 0))], \n",
    "                                     ['BUY', 'SELL'], 'None')\n",
    "        \"\"\"  \n",
    "             diff < 0 and next index of diff > 0 then BUY\n",
    "             diff > 0 and next index of diff  < 0 then SELL\n",
    "         \"\"\"\n",
    "        \n",
    "        signals = self.temp_df.loc[self.temp_df['signal'].isin(['BUY','SELL'])]\n",
    "        \n",
    "        \"\"\" Checking signal = BUY or SELL and then accessing only those rows \"\"\"\n",
    "        \n",
    "        signals = pd.DataFrame({'timestamp':signals['timestamp'],\n",
    "                      'signal':signals['signal']}).reset_index(drop=True)\n",
    "        \n",
    "        \"\"\" created new df --> signals with 2 column -> timestamp and signal\"\"\"\n",
    "        \n",
    "        return signals\n",
    "    \n",
    "    \n",
    "    \n",
    "    \n",
    "    def plot_candlestick(self):\n",
    "        \n",
    "        \"\"\" Function for plotting the candlestic chart\"\"\"\n",
    "        func.plot_candlestick_chart(self.temp_df.head(100), \n",
    "            PlotType.JAPANESE, \n",
    "            caption='', \n",
    "            hide_missing_dates=False, \n",
    "            show=True, \n",
    "            indicators=([{\n",
    "                'name':'SMA',\n",
    "                'data':self.temp_df['indicator'].head(100)}]), \n",
    "            plot_indicators_separately=False, \n",
    "            plot_height=500, plot_width=1000 )\n"
   ]
  },
  {
   "cell_type": "code",
   "execution_count": 4,
   "id": "b0036437",
   "metadata": {},
   "outputs": [],
   "source": [
    "strategy = Strategy('NVDA')"
   ]
  },
  {
   "cell_type": "code",
   "execution_count": 5,
   "id": "39aec272",
   "metadata": {},
   "outputs": [],
   "source": [
    "strategy.get_script_data()"
   ]
  },
  {
   "cell_type": "code",
   "execution_count": 6,
   "id": "7c344398",
   "metadata": {},
   "outputs": [
    {
     "ename": "NameError",
     "evalue": "name 'indicator1' is not defined",
     "output_type": "error",
     "traceback": [
      "\u001b[1;31m---------------------------------------------------------------------------\u001b[0m",
      "\u001b[1;31mNameError\u001b[0m                                 Traceback (most recent call last)",
      "Cell \u001b[1;32mIn[6], line 1\u001b[0m\n\u001b[1;32m----> 1\u001b[0m \u001b[43mstrategy\u001b[49m\u001b[38;5;241;43m.\u001b[39;49m\u001b[43mget_signals\u001b[49m\u001b[43m(\u001b[49m\u001b[43m)\u001b[49m\n",
      "Cell \u001b[1;32mIn[3], line 14\u001b[0m, in \u001b[0;36mStrategy.get_signals\u001b[1;34m(self)\u001b[0m\n\u001b[0;32m     13\u001b[0m \u001b[38;5;28;01mdef\u001b[39;00m \u001b[38;5;21mget_signals\u001b[39m(\u001b[38;5;28mself\u001b[39m):\n\u001b[1;32m---> 14\u001b[0m     indicator_data \u001b[38;5;241m=\u001b[39m \u001b[43mindicator1\u001b[49m(\n\u001b[0;32m     15\u001b[0m                          \u001b[38;5;28mself\u001b[39m\u001b[38;5;241m.\u001b[39mscript_data[\u001b[38;5;28mself\u001b[39m\u001b[38;5;241m.\u001b[39mscript],  \n\u001b[0;32m     16\u001b[0m                          \u001b[38;5;28mself\u001b[39m\u001b[38;5;241m.\u001b[39mtimeperiod )\n\u001b[0;32m     18\u001b[0m     \u001b[38;5;28mself\u001b[39m\u001b[38;5;241m.\u001b[39mtemp_df \u001b[38;5;241m=\u001b[39m pd\u001b[38;5;241m.\u001b[39mmerge(\u001b[38;5;28mself\u001b[39m\u001b[38;5;241m.\u001b[39mscript_data[\u001b[38;5;28mself\u001b[39m\u001b[38;5;241m.\u001b[39mscript], \n\u001b[0;32m     19\u001b[0m                        indicator_data, on\u001b[38;5;241m=\u001b[39m\u001b[38;5;124m'\u001b[39m\u001b[38;5;124mtimestamp\u001b[39m\u001b[38;5;124m'\u001b[39m)\n\u001b[0;32m     20\u001b[0m     \u001b[38;5;66;03m#merging df and indicator_df o timestamp and creating temp_df\u001b[39;00m\n",
      "\u001b[1;31mNameError\u001b[0m: name 'indicator1' is not defined"
     ]
    }
   ],
   "source": [
    "strategy.get_signals()"
   ]
  },
  {
   "cell_type": "code",
   "execution_count": null,
   "id": "dc87518f",
   "metadata": {},
   "outputs": [],
   "source": [
    "strategy.plot_candlestick()"
   ]
  },
  {
   "cell_type": "code",
   "execution_count": null,
   "id": "6ac69200",
   "metadata": {},
   "outputs": [],
   "source": []
  }
 ],
 "metadata": {
  "kernelspec": {
   "display_name": "Python 3 (ipykernel)",
   "language": "python",
   "name": "python3"
  },
  "language_info": {
   "codemirror_mode": {
    "name": "ipython",
    "version": 3
   },
   "file_extension": ".py",
   "mimetype": "text/x-python",
   "name": "python",
   "nbconvert_exporter": "python",
   "pygments_lexer": "ipython3",
   "version": "3.11.2"
  }
 },
 "nbformat": 4,
 "nbformat_minor": 5
}
